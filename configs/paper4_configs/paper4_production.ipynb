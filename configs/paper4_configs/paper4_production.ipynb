{
 "cells": [
  {
   "cell_type": "markdown",
   "id": "d1595aed-5e96-4b01-b371-ee1878317155",
   "metadata": {},
   "source": [
    "# Preliminaries"
   ]
  },
  {
   "cell_type": "code",
   "execution_count": 1,
   "id": "c14a55d1-af4d-4de4-b740-ee0a800697f4",
   "metadata": {},
   "outputs": [],
   "source": [
    "BANDS = ['Y106', 'J129', 'H158', 'F184', 'K213']\n",
    "KERNELS = ['Chol', 'Iter']\n",
    "SUITES = {\n",
    "    'Common': ['benchmark', 'airyobsc', 'airyunobsc', 'gauss_0.8x', 'gauss_1.2x',\n",
    "               'psfcirc', 'psfnorm', 'amppen', 'flatpen'],\n",
    "    'Chol': ['kappac_3x', 'kappac_9x', 'inpad=1.00', 'inpad=0.76'],\n",
    "    'Iter': ['rtol=4.5e-3', 'rtol=5.0e-4', 'inpad=0.75', 'inpad=0.45'],\n",
    "}"
   ]
  },
  {
   "cell_type": "code",
   "execution_count": 2,
   "id": "02e396ca-ed82-4b68-a79b-27f4b333cd7b",
   "metadata": {},
   "outputs": [],
   "source": [
    "from pathlib import Path\n",
    "\n",
    "SCRATCH = Path('/fs/scratch/PAS2733/kailicao')\n",
    "PROJECT = Path('/users/PAS2055/kailicao/pyimcom_dev')\n",
    "INCONFIG = Path('/users/PAS2055/kailicao/pyimcom_dev/pyimcom/configs/production_configs_spring2024')\n",
    "OUTCONFIG = Path('/users/PAS2055/kailicao/pyimcom_dev/paper4_configs')\n",
    "SCRIPTS = Path('/users/PAS2055/kailicao/pyimcom_dev/paper4_scripts')"
   ]
  },
  {
   "cell_type": "code",
   "execution_count": 3,
   "id": "5d906e17-83e9-4308-b05f-b5c5afd7daf7",
   "metadata": {},
   "outputs": [],
   "source": [
    "# make directories in the scratch disk\n",
    "\n",
    "if False:  # 6/18/2024\n",
    "    for band in BANDS:\n",
    "        for kernel in KERNELS:\n",
    "            outdir = SCRATCH / f'paper4_{band}_{kernel}'\n",
    "            outdir.mkdir(exist_ok=True)\n",
    "\n",
    "            for suite in SUITES['Common'] + SUITES[kernel]:\n",
    "                suitedir = outdir / f'{band}_{kernel}_{suite}'\n",
    "                suitedir.mkdir(exist_ok=True)"
   ]
  },
  {
   "cell_type": "code",
   "execution_count": 4,
   "id": "a34722d7-791d-4fd5-ae61-6a385995d963",
   "metadata": {},
   "outputs": [],
   "source": [
    "from sympy import isprime\n",
    "import numpy as np\n",
    "\n",
    "%matplotlib inline\n",
    "import matplotlib.pyplot as plt\n",
    "from pyimcom.config import format_axis"
   ]
  },
  {
   "cell_type": "code",
   "execution_count": 5,
   "id": "76aba103-eb04-49d8-ae95-009c86854f42",
   "metadata": {},
   "outputs": [
    {
     "data": {
      "image/png": "[encoded data removed]",
      "text/plain": [
       "<Figure size 432x288 with 1 Axes>"
      ]
     },
     "metadata": {
      "needs_background": "light"
     },
     "output_type": "display_data"
    }
   ],
   "source": [
    "# find a good prime for hashing purpose\n",
    "\n",
    "NB = 36\n",
    "xy = np.empty((2, 16), dtype=np.uint8)\n",
    "\n",
    "for p in range(1000):\n",
    "    if not isprime(p): continue\n",
    "    for k in range(16):\n",
    "        xy[:, k] = divmod(k*p%NB**2, NB)\n",
    "\n",
    "    is_good = True\n",
    "    for i in range(2):\n",
    "        if xy[i].max() < NB-1: is_good = False\n",
    "        if np.unique(xy[i]).size < 16: is_good = False\n",
    "    if not is_good: continue\n",
    "\n",
    "    fig, ax = plt.subplots()\n",
    "    ax.scatter(*xy, label=f'{p=}')\n",
    "    ax.legend()\n",
    "\n",
    "    ax.set_aspect('equal', adjustable='box')\n",
    "    format_axis(ax)\n",
    "    plt.show()"
   ]
  },
  {
   "cell_type": "markdown",
   "id": "5960cd49-c9c8-4829-8b32-816ec6953d6d",
   "metadata": {},
   "source": [
    "# Configurations and Shell scripts"
   ]
  },
  {
   "cell_type": "code",
   "execution_count": 6,
   "id": "c05c5c5d-1ae0-49f5-9a8d-24113a04eb2f",
   "metadata": {},
   "outputs": [],
   "source": [
    "import re\n",
    "from pyimcom.config import Config, Settings as Stn"
   ]
  },
  {
   "cell_type": "code",
   "execution_count": 7,
   "id": "621517c4-b5e3-4ecf-8e1d-464217f393a4",
   "metadata": {},
   "outputs": [],
   "source": [
    "# make benchmark configurations for Cholesky kernel\n",
    "\n",
    "kernel = 'Chol'\n",
    "suite = 'benchmark'\n",
    "\n",
    "if False:  # 6/18/2024\n",
    "    for band in BANDS:\n",
    "        cfg = Config(INCONFIG / f'config_prod-{band[0]}.json')\n",
    "        cfg.extrainput = [None, 'labnoise', 'gsstar14', 'gsext14,seed=100', '1fnoise9', 'whitenoise10']\n",
    "        cfg.outstem = str(SCRATCH / f'paper4_{band}_{kernel}'\n",
    "                          / f'{band}_{kernel}_{suite}' / f'{band}_{kernel}_{suite}')\n",
    "        cfg.tempfile = f'/tmp/pyimcomrun_{band[0]}{kernel[0]}{suite[0]}'\n",
    "        cfg.to_file(OUTCONFIG / f'{band}_{kernel}_{suite}.json')"
   ]
  },
  {
   "cell_type": "code",
   "execution_count": 8,
   "id": "ffab575e-5383-455b-a688-53a3a07a06a2",
   "metadata": {},
   "outputs": [],
   "source": [
    "# make benchmark configurations for iterative kernel\n",
    "\n",
    "kernel = 'Iter'\n",
    "suite = 'benchmark'\n",
    "\n",
    "if False:  # 6/18/2024\n",
    "    for band in BANDS:\n",
    "        cfg = Config(OUTCONFIG / f'{band}_Chol_benchmark.json')\n",
    "        cfg.linear_algebra = 'Iterative'\n",
    "        cfg.iter_rtol = 1.5e-3\n",
    "        cfg.iter_max = 30\n",
    "\n",
    "        cfg.fade_kernel = 0\n",
    "        cfg.instamp_pad = 0.60 * Stn.arcsec\n",
    "        cfg.kappaC_arr *= 0.0\n",
    "\n",
    "        cfg.outstem = str(SCRATCH / f'paper4_{band}_{kernel}'\n",
    "                          / f'{band}_{kernel}_{suite}' / f'{band}_{kernel}_{suite}')\n",
    "        cfg.tempfile = f'/tmp/pyimcomrun_{band[0]}{kernel[0]}{suite[0]}'\n",
    "        cfg.to_file(OUTCONFIG / f'{band}_{kernel}_{suite}.json')"
   ]
  },
  {
   "cell_type": "code",
   "execution_count": 9,
   "id": "7e98d592-265b-4f18-9688-1d9fe0400248",
   "metadata": {},
   "outputs": [],
   "source": [
    "# make variation configurations for both kernels\n",
    "\n",
    "if False:  # 6/18/2024\n",
    "    for band in BANDS:\n",
    "        for kernel in KERNELS:\n",
    "            for suite in SUITES['Common'] + SUITES[kernel]:\n",
    "                cfg = Config(OUTCONFIG / f'{band}_{kernel}_benchmark.json')\n",
    "                if suite == 'benchmark': continue\n",
    "                recognized = True\n",
    "\n",
    "                if suite.startswith('airy'):\n",
    "                    cfg.outpsf = suite.upper()\n",
    "                elif suite.startswith('gauss'):\n",
    "                    m = re.match('gauss_([0-9.]+)x', suite)\n",
    "                    cfg.sigmatarget *= float(m.group(1))\n",
    "\n",
    "                elif suite.startswith('psf'):\n",
    "                    if suite == 'psfcirc':\n",
    "                        cfg.psf_circ = True\n",
    "                    elif suite == 'psfnorm':\n",
    "                        cfg.psf_norm = True\n",
    "                    else:\n",
    "                        recognized = False\n",
    "                elif suite.endswith('pen'):\n",
    "                    if suite == 'amppen':\n",
    "                        cfg.amp_penalty = (1.0, 1.5)\n",
    "                    elif suite == 'flatpen':\n",
    "                        cfg.flat_penalty = 1e-7\n",
    "                    else:\n",
    "                        recognized = False\n",
    "\n",
    "                elif suite.startswith('kappac'):  # Cholesky kernel only\n",
    "                    m = re.match('kappac_([0-9]+)x', suite)\n",
    "                    cfg.kappaC_arr *= int(m.group(1))\n",
    "                elif suite.startswith('rtol'):  # iterative kernel only\n",
    "                    m = re.match('rtol=([0-9.e-]+)', suite)\n",
    "                    cfg.iter_rtol = float(m.group(1))\n",
    "                    if cfg.iter_rtol < 1e-3:\n",
    "                        cfg.iter_max = 40\n",
    "                elif suite.startswith('inpad'):\n",
    "                    m = re.match('inpad=([0-9.]+)', suite)\n",
    "                    cfg.instamp_pad = float(m.group(1)) * Stn.arcsec\n",
    "\n",
    "                else:\n",
    "                    recognized = False\n",
    "\n",
    "                if recognized:\n",
    "                    # print(f' > {band}_{kernel}_{suite}.json')\n",
    "                    cfg.outstem = str(SCRATCH / f'paper4_{band}_{kernel}'\n",
    "                                      / f'{band}_{kernel}_{suite}' / f'{band}_{kernel}_{suite}')\n",
    "                    cfg.tempfile = f'/tmp/pyimcomrun_{band[0]}{kernel[0]}{suite[0]}'\n",
    "                    cfg.to_file(OUTCONFIG / f'{band}_{kernel}_{suite}.json')\n",
    "                else:\n",
    "                    print(' > Unrecognized suite:', kernel, suite)"
   ]
  },
  {
   "cell_type": "code",
   "execution_count": 10,
   "id": "2bef3fda-d418-4817-9311-fb5069fbc9b5",
   "metadata": {},
   "outputs": [],
   "source": [
    "# write Shell scripts\n",
    "\n",
    "if False:  # 6/18/2024\n",
    "    for band in BANDS:\n",
    "        for kernel in KERNELS:\n",
    "            for suite in SUITES['Common'] + SUITES[kernel]:\n",
    "            # for suite in ['benchmark', 'airyobsc', 'airyunobsc']:  # 6/22/2024\n",
    "                if (PROJECT / 'paper4_outputs' / f'{band}_{kernel}_{suite}.out').exists():\n",
    "                    continue\n",
    "                print(f' > {band}_{kernel}_{suite}.sh')\n",
    "\n",
    "                if False:\n",
    "                    lines = ['#!/bin/bash\\n', '#SBATCH --account=PCON0003\\n']\n",
    "                    lines.append(f'#SBATCH --job-name={band}_{kernel}\\n')\n",
    "                    lines.append('#SBATCH --time=7-00:00:00\\n')\n",
    "                    lines.append(f'#SBATCH --ntasks={16 + (kernel == \"Chol\") * 4}\\n')\n",
    "                    lines.append(f'#SBATCH --output={str(PROJECT)}/paper4_outputs/{band}_{kernel}_{suite}.out\\n')\n",
    "                    lines.extend(['\\n', 'cd ..\\n'])\n",
    "                    lines.append(f'perl multiblock_paper4.pl {band} {kernel} {suite} 36 0 16 1\\n')\n",
    "\n",
    "                    with open(SCRIPTS / f'{band}_{kernel}_{suite}.sh', 'w') as f:\n",
    "                        f.writelines(lines)"
   ]
  },
  {
   "cell_type": "markdown",
   "id": "5e4704b2-fec2-47cb-9b55-ecb5ffd29fed",
   "metadata": {},
   "source": [
    "# Dealing with target output PSFs"
   ]
  },
  {
   "cell_type": "code",
   "execution_count": 11,
   "id": "810d152b-1853-4e51-8b61-fc6dd7d9bebd",
   "metadata": {},
   "outputs": [],
   "source": [
    "from pyimcom.psfutil import PSFGrp\n",
    "PSFGrp.setup(npixpsf=48, oversamp=8, dtheta=1.0850694444444445e-05)\n",
    "from pyimcom_croutines import gridD5512C\n",
    "from scipy.optimize import fsolve"
   ]
  },
  {
   "cell_type": "code",
   "execution_count": 12,
   "id": "208eeeeb-650f-480b-9f55-e13b6dc28b9a",
   "metadata": {},
   "outputs": [],
   "source": [
    "# from pyimcom.routine import iD5512C_getw does not work\n",
    "\n",
    "def iD5512C_getw(w: np.array, fh: float) -> None:\n",
    "    fh2 = fh * fh\n",
    "    e_ =  (((+1.651881673372979740E-05*fh2 - 3.145538007199505447E-04)*fh2 +\n",
    "          1.793518183780194427E-03)*fh2 - 2.904014557029917318E-03)*fh2 + 6.187591260980151433E-04\n",
    "    o_ = ((((-3.486978652054735998E-06*fh2 + 6.753750285320532433E-05)*fh2 -\n",
    "          3.871378836550175566E-04)*fh2 + 6.279918076641771273E-04)*fh2 - 1.338434614116611838E-04)*fh\n",
    "    w[0] = e_ + o_\n",
    "    w[9] = e_ - o_\n",
    "    e_ =  (((-1.146756217210629335E-04*fh2 + 2.883845374976550142E-03)*fh2 -\n",
    "          1.857047531896089884E-02)*fh2 + 3.147734488597204311E-02)*fh2 - 6.753293626461192439E-03\n",
    "    o_ = ((((+3.121412120355294799E-05*fh2 - 8.040343683015897672E-04)*fh2 +\n",
    "          5.209574765466357636E-03)*fh2 - 8.847326408846412429E-03)*fh2 + 1.898674086370833597E-03)*fh\n",
    "    w[1] = e_ + o_\n",
    "    w[8] = e_ - o_\n",
    "    e_ =  (((+3.256838096371517067E-04*fh2 - 9.702063770653997568E-03)*fh2 +\n",
    "          8.678848026470635524E-02)*fh2 - 1.659182651092198924E-01)*fh2 + 3.620560878249733799E-02\n",
    "    o_ = ((((-1.243658986204533102E-04*fh2 + 3.804930695189636097E-03)*fh2 -\n",
    "          3.434861846914529643E-02)*fh2 + 6.581033749134083954E-02)*fh2 - 1.436476114189205733E-02)*fh\n",
    "    w[2] = e_ + o_\n",
    "    w[7] = e_ - o_\n",
    "    e_ =  (((-4.541830837949564726E-04*fh2 + 1.494862093737218955E-02)*fh2 -\n",
    "          1.668775957435094937E-01)*fh2 + 5.879306056792649171E-01)*fh2 - 1.367845996704077915E-01\n",
    "    o_ = ((((+2.894406669584551734E-04*fh2 - 9.794291009695265532E-03)*fh2 +\n",
    "          1.104231510875857830E-01)*fh2 - 3.906954914039130755E-01)*fh2 + 9.092432925988773451E-02)*fh\n",
    "    w[3] = e_ + o_\n",
    "    w[6] = e_ - o_\n",
    "    e_ =  (((+2.266560930061513573E-04*fh2 - 7.815848920941316502E-03)*fh2 +\n",
    "          9.686607348538181506E-02)*fh2 - 4.505856722239036105E-01)*fh2 + 6.067135256905490381E-01\n",
    "    o_ = ((((-4.336085507644610966E-04*fh2 + 1.537862263741893339E-02)*fh2 -\n",
    "          1.925091434770601628E-01)*fh2 + 8.993141455798455697E-01)*fh2 - 1.213035309579723942E+00)*fh\n",
    "    w[4] = e_ + o_\n",
    "    w[5] = e_ - o_"
   ]
  },
  {
   "cell_type": "code",
   "execution_count": 13,
   "id": "5e840fdd-9173-483e-bfee-dd1c558fb49e",
   "metadata": {},
   "outputs": [],
   "source": [
    "def psf_get_fwhm(psf, visualize: bool = True):\n",
    "    # from PSFGrp._sample_psf\n",
    "    ny, nx = np.shape(psf)[-2:]\n",
    "    xctr = (nx-1) / 2.0\n",
    "    yctr = (ny-1) / 2.0\n",
    "\n",
    "    # extract PSF on the x-axis\n",
    "    out_arr = np.zeros((1, PSFGrp.nsamp))\n",
    "    gridD5512C(np.pad(psf, 6), PSFGrp.yxo[None, 1, 0, :]+xctr+6,\n",
    "               PSFGrp.yxo[None, 0, PSFGrp.nc:PSFGrp.nc+1, 0]+yctr+6, out_arr)\n",
    "    hm = out_arr[0, PSFGrp.nc]/2  # half maximum\n",
    "\n",
    "    if visualize:\n",
    "        fig, ax = plt.subplots()\n",
    "\n",
    "        ax.plot(out_arr[0, PSFGrp.nc:PSFGrp.nc+25], 'rx')\n",
    "        ax.axhline(hm, c='b', ls='--')\n",
    "\n",
    "        format_axis(ax)\n",
    "        plt.show()\n",
    "\n",
    "    idx = np.searchsorted(-out_arr[0, PSFGrp.nc:], -hm)\n",
    "    idx += PSFGrp.nc\n",
    "\n",
    "    w = np.empty((10,))\n",
    "    def func(fh):\n",
    "        iD5512C_getw(w, fh)\n",
    "        return w @ out_arr[0, idx-5:idx+5] - hm\n",
    "\n",
    "    fh = fsolve(func, 0)[0]\n",
    "    idx -= PSFGrp.nc\n",
    "    return (idx-.5+fh)*2"
   ]
  },
  {
   "cell_type": "code",
   "execution_count": 14,
   "id": "e2e05aed-e9d3-4a60-b6df-0554afc3562d",
   "metadata": {},
   "outputs": [],
   "source": [
    "def explore_outpsfs(band, OPTSMOOTH: dict = None):\n",
    "    cfg = Config(OUTCONFIG / f'{band}_Chol_benchmark.json')\n",
    "    oversamp = cfg.inpsf_oversamp  # shortcut\n",
    "    print('FWHMs of target output PSFs in', band)\n",
    "\n",
    "    # default Gaussian\n",
    "    psf_dg = PSFGrp._get_outpsf(cfg.outpsf, cfg.sigmatarget, cfg.use_filter)\n",
    "    fwhm_dg = psf_get_fwhm(psf_dg, visualize=False) / oversamp\n",
    "    print('default Gaussian:', fwhm_dg, '(measured),',\n",
    "          cfg.sigmatarget * np.sqrt(8*np.log(2)), '(exact),',\n",
    "          np.sum(np.square(psf_dg)), '(L2-norm)'); del psf_dg\n",
    "\n",
    "    # narrow Gaussian\n",
    "    psf_ng = PSFGrp._get_outpsf(cfg.outpsf, cfg.sigmatarget*0.8, cfg.use_filter)\n",
    "    fwhm_ng = psf_get_fwhm(psf_ng, visualize=False) / oversamp; del psf_ng\n",
    "    print('narrow Gaussian:', fwhm_ng, '(measured),',\n",
    "          cfg.sigmatarget*0.8 * np.sqrt(8*np.log(2)), '(exact)')\n",
    "\n",
    "    def func(extrasmooth, outpsf):\n",
    "        psf_ao = PSFGrp._get_outpsf(outpsf, extrasmooth, cfg.use_filter)\n",
    "        fwhm_ao = psf_get_fwhm(psf_ao, visualize=False) / oversamp\n",
    "        return fwhm_ao - fwhm_dg\n",
    "\n",
    "    # obscured Airy disk\n",
    "    psf_ao0 = PSFGrp._get_outpsf('AIRYOBSC', 0.0, cfg.use_filter)\n",
    "    fwhm_ao0 = psf_get_fwhm(psf_ao0, visualize=False) / oversamp; del psf_ao0\n",
    "    fwhm_ao = fsolve(func, (fwhm_dg**2 - fwhm_ao0**2) ** 0.5, ('AIRYOBSC',))[0]\n",
    "    print('obscured Airy:', fwhm_ao0, '(no smoothing),', fwhm_ao, '(optimal smoothing)')\n",
    "    if OPTSMOOTH is not None: OPTSMOOTH[(band, 'AIRYOBSC')] = fwhm_ao\n",
    "\n",
    "    # unobscured Airy disk\n",
    "    psf_au0 = PSFGrp._get_outpsf('AIRYUNOBSC', 0.0, cfg.use_filter)\n",
    "    fwhm_au0 = psf_get_fwhm(psf_au0, visualize=False) / oversamp; del psf_au0\n",
    "    fwhm_au = fsolve(func, (fwhm_dg**2 - fwhm_ao0**2) ** 0.5, ('AIRYUNOBSC',))[0]\n",
    "    print('unobscured Airy:', fwhm_au0, '(no smoothing),', fwhm_au, '(optimal smoothing)')\n",
    "    if OPTSMOOTH is not None: OPTSMOOTH[(band, 'AIRYUNOBSC')] = fwhm_au"
   ]
  },
  {
   "cell_type": "code",
   "execution_count": 15,
   "id": "4cd23da2-8909-4b79-b038-11ebceaab54f",
   "metadata": {},
   "outputs": [
    {
     "name": "stdout",
     "output_type": "stream",
     "text": [
      "FWHMs of target output PSFs in Y106\n",
      "default Gaussian: 2.0000000002319176 (measured), 2.0 (exact), 0.0017237156261925891 (L2-norm)\n",
      "narrow Gaussian: 1.6000000013111657 (measured), 1.6 (exact)\n",
      "obscured Airy: 0.8157640120306425 (no smoothing), 0.7263047996919942 (optimal smoothing)\n",
      "unobscured Airy: 0.858181309060821 (no smoothing), 0.7643670850999693 (optimal smoothing)\n",
      "\n",
      "FWHMs of target output PSFs in J129\n",
      "default Gaussian: 2.1000000004727504 (measured), 2.1 (exact), 0.0015634608854354563 (L2-norm)\n",
      "narrow Gaussian: 1.6800000007342024 (measured), 1.6800000000000002 (exact)\n",
      "obscured Airy: 0.9986747354698722 (no smoothing), 0.7456645509920108 (optimal smoothing)\n",
      "unobscured Airy: 1.0506028624947281 (no smoothing), 0.7787898084859678 (optimal smoothing)\n",
      "\n",
      "FWHMs of target output PSFs in H158\n",
      "default Gaussian: 2.2000000004812152 (measured), 2.2 (exact), 0.001424558368754206 (L2-norm)\n",
      "narrow Gaussian: 1.7600000003307918 (measured), 1.7600000000000002 (exact)\n",
      "obscured Airy: 1.2226673874828662 (no smoothing), 0.7612194753770329 (optimal smoothing)\n",
      "unobscured Airy: 1.2862424628975708 (no smoothing), 0.7794443785435948 (optimal smoothing)\n",
      "\n",
      "FWHMs of target output PSFs in F184\n",
      "default Gaussian: 2.300000000591195 (measured), 2.3 (exact), 0.0013033766549660419 (L2-norm)\n",
      "narrow Gaussian: 1.840000000280546 (measured), 1.84 (exact)\n",
      "obscured Airy: 1.4241629725151275 (no smoothing), 0.7747846338713081 (optimal smoothing)\n",
      "unobscured Airy: 1.4982152203409969 (no smoothing), 0.7767112885128765 (optimal smoothing)\n",
      "\n",
      "FWHMs of target output PSFs in K213\n",
      "default Gaussian: 2.4000000008267914 (measured), 2.4 (exact), 0.0011970247404115212 (L2-norm)\n",
      "narrow Gaussian: 1.9200000003100568 (measured), 1.9200000000000002 (exact)\n",
      "obscured Airy: 1.6481556378542217 (no smoothing), 0.7752202870051728 (optimal smoothing)\n",
      "unobscured Airy: 1.7338548395029645 (no smoothing), 0.7559549420233055 (optimal smoothing)\n"
     ]
    }
   ],
   "source": [
    "OPTSMOOTH = {}\n",
    "\n",
    "for band in BANDS:\n",
    "    explore_outpsfs(band, OPTSMOOTH)\n",
    "    if band != BANDS[-1]: print()"
   ]
  },
  {
   "cell_type": "code",
   "execution_count": 16,
   "id": "7b960886-5897-4fca-b5d1-76e706a40a76",
   "metadata": {},
   "outputs": [
    {
     "name": "stdout",
     "output_type": "stream",
     "text": [
      "J129 GAUSSIAN\n"
     ]
    },
    {
     "data": {
      "image/png": "[encoded data removed]",
      "text/plain": [
       "<Figure size 432x288 with 1 Axes>"
      ]
     },
     "metadata": {
      "needs_background": "light"
     },
     "output_type": "display_data"
    },
    {
     "name": "stdout",
     "output_type": "stream",
     "text": [
      "J129 AIRYOBSC\n"
     ]
    },
    {
     "data": {
      "image/png": "[encoded data removed]",
      "text/plain": [
       "<Figure size 432x288 with 1 Axes>"
      ]
     },
     "metadata": {
      "needs_background": "light"
     },
     "output_type": "display_data"
    },
    {
     "name": "stdout",
     "output_type": "stream",
     "text": [
      "J129 AIRYUNOBSC\n"
     ]
    },
    {
     "data": {
      "image/png": "[encoded data removed]",
      "text/plain": [
       "<Figure size 432x288 with 1 Axes>"
      ]
     },
     "metadata": {
      "needs_background": "light"
     },
     "output_type": "display_data"
    }
   ],
   "source": [
    "for band in BANDS[1:2]:\n",
    "    for outpsf in ['GAUSSIAN', 'AIRYOBSC', 'AIRYUNOBSC']:\n",
    "        cfg = Config(OUTCONFIG / f'{band}_Chol_benchmark.json')\n",
    "        sigmatarget = OPTSMOOTH.get((band, outpsf), cfg.sigmatarget)\n",
    "        psf = PSFGrp._get_outpsf(outpsf, sigmatarget, cfg.use_filter)\n",
    "        print(band, outpsf)\n",
    "        psf_get_fwhm(psf, visualize=True)"
   ]
  },
  {
   "cell_type": "code",
   "execution_count": 17,
   "id": "58fabe84-b44f-45f9-9d9d-a956fa225278",
   "metadata": {},
   "outputs": [],
   "source": [
    "# update sigmatarget for outpsf variations\n",
    "\n",
    "if False:  # 6/18/2024\n",
    "    for band in BANDS:\n",
    "        for kernel in KERNELS:\n",
    "            for suite in ['airyobsc', 'airyunobsc']:\n",
    "                cfg = Config(OUTCONFIG / f'{band}_{kernel}_{suite}.json')\n",
    "                cfg.sigmatarget = OPTSMOOTH[(band, suite.upper())]\n",
    "                cfg.to_file(OUTCONFIG / f'{band}_{kernel}_{suite}.json')"
   ]
  },
  {
   "cell_type": "code",
   "execution_count": null,
   "id": "8de52ece-8416-4429-bda5-d9716d7f78e1",
   "metadata": {},
   "outputs": [],
   "source": []
  }
 ],
 "metadata": {
  "kernelspec": {
   "display_name": "Python 3.9 (Conda 2022.05) [python/3.9-2022.05]",
   "language": "python",
   "name": "python39_202205"
  },
  "language_info": {
   "codemirror_mode": {
    "name": "ipython",
    "version": 3
   },
   "file_extension": ".py",
   "mimetype": "text/x-python",
   "name": "python",
   "nbconvert_exporter": "python",
   "pygments_lexer": "ipython3",
   "version": "3.9.12"
  }
 },
 "nbformat": 4,
 "nbformat_minor": 5
}
